{
  "nbformat": 4,
  "nbformat_minor": 0,
  "metadata": {
    "colab": {
      "name": "Similarity_Classification.ipynb",
      "provenance": [],
      "collapsed_sections": []
    },
    "kernelspec": {
      "name": "python3",
      "display_name": "Python 3"
    }
  },
  "cells": [
    {
      "cell_type": "markdown",
      "metadata": {
        "id": "t_yvQBKrD8Se"
      },
      "source": [
        "\n",
        "\n",
        "## **Skip-gram Model for Word2Vec**\n",
        "\n",
        "<br>\n",
        "\n",
        "There are two Word2Vec architectures for creating word embeddings: the Continuous Bag of Words (CBOW) architecture and the Skip Gram architecture . In this file, I obtained  word embeddings by training a skip-gram neural network model. \n",
        "\n",
        "\n",
        "The skip gram model is essentially a feedforward neural network with one hidden layer, trained to predict the context word given a target word. I trained the model by negative sampling.To train with negative sampling, the model is cast as a binary classification problem. The dataset would consist of positive and negative examples of the form:\n",
        "\n",
        "Input | label\n",
        "--| --\n",
        "(target_word, word_in_its_context)       |  1 \n",
        "(target_word, word_not_in_its_context)   |  0\n",
        "\n",
        "created from the sentences in a corpus. The exact number of positive and negative examples will depend on the window size, and the balance ratio of positive:negative examples.  \n",
        "\n",
        "\n",
        "\n",
        "The model is trained to learn to predict 1 when a word is in the context of the target word (i.e.in the window of the target word) and 0 otherwise. The model thus learns the statistics of the given corpus: the frequency with two words appear together would determine how similar they are (similarity is usually measured using cosine distance). After training, the trained hidden layer weights are the word embeddings.\n",
        "\n"
      ]
    },
    {
      "cell_type": "markdown",
      "metadata": {
        "id": "w6Pi5uvTLRCo"
      },
      "source": [
        "### **1. Downloading the Corpus**\n",
        "\n",
        "Our training data will be comprised of 3 documents from the Gutenberg corpus. We can find this and other corpora in nltk https://www.nltk.org/book/ch02.html"
      ]
    },
    {
      "cell_type": "code",
      "metadata": {
        "colab": {
          "base_uri": "https://localhost:8080/"
        },
        "id": "xn7sWMG-KoBV",
        "outputId": "ad742b79-bbe0-451d-f454-716cb851196b"
      },
      "source": [
        "import nltk\n",
        "from nltk.corpus import stopwords \n",
        "nltk.download('stopwords')\n",
        "nltk.download('punkt')\n",
        "nltk.download('gutenberg')\n",
        "from nltk.corpus import gutenberg\n",
        "austen = gutenberg.sents('austen-sense.txt') + gutenberg.sents('austen-emma.txt') + gutenberg.sents('austen-persuasion.txt')"
      ],
      "execution_count": null,
      "outputs": [
        {
          "output_type": "stream",
          "text": [
            "[nltk_data] Downloading package stopwords to /root/nltk_data...\n",
            "[nltk_data]   Unzipping corpora/stopwords.zip.\n",
            "[nltk_data] Downloading package punkt to /root/nltk_data...\n",
            "[nltk_data]   Unzipping tokenizers/punkt.zip.\n",
            "[nltk_data] Downloading package gutenberg to /root/nltk_data...\n",
            "[nltk_data]   Unzipping corpora/gutenberg.zip.\n"
          ],
          "name": "stdout"
        }
      ]
    },
    {
      "cell_type": "markdown",
      "metadata": {
        "id": "PYD16ST1MIOf"
      },
      "source": [
        "**Sanity check:**\n",
        "\n",
        "This training corpus contains 16498 sentences. "
      ]
    },
    {
      "cell_type": "code",
      "metadata": {
        "colab": {
          "base_uri": "https://localhost:8080/"
        },
        "id": "yCH0PmPcL83f",
        "outputId": "4c1bba26-c4b1-44bc-caaa-12d5247ad6e9"
      },
      "source": [
        "print(len(austen))"
      ],
      "execution_count": null,
      "outputs": [
        {
          "output_type": "stream",
          "text": [
            "16498\n"
          ],
          "name": "stdout"
        }
      ]
    },
    {
      "cell_type": "code",
      "metadata": {
        "colab": {
          "base_uri": "https://localhost:8080/"
        },
        "id": "kH0DpjEFS7wS",
        "outputId": "8dd918db-c397-4508-9fa7-be8e5d6441d2"
      },
      "source": [
        "austen[0]"
      ],
      "execution_count": null,
      "outputs": [
        {
          "output_type": "execute_result",
          "data": {
            "text/plain": [
              "['[', 'Sense', 'and', 'Sensibility', 'by', 'Jane', 'Austen', '1811', ']']"
            ]
          },
          "metadata": {
            "tags": []
          },
          "execution_count": 3
        }
      ]
    },
    {
      "cell_type": "markdown",
      "metadata": {
        "id": "4c14vElNvMGX"
      },
      "source": [
        "### **2. Preprocessing the Training Corpus**\n",
        "\n",
        "Performed few pre-processing techniques to remove special characters, empty strings, digits and stopwords, sentences with fewer than 3 words and put all the words into lower cases.\n",
        "\n",
        "\n",
        "\n",
        "\n",
        "\n",
        "**Sanity check:**\n",
        "\n"
      ]
    },
    {
      "cell_type": "code",
      "metadata": {
        "id": "uW28sRdApS8z"
      },
      "source": [
        "    stopwords = set(stopwords.words('english')) \n",
        "    stopwords  = list(stopwords)"
      ],
      "execution_count": null,
      "outputs": []
    },
    {
      "cell_type": "code",
      "metadata": {
        "id": "V2SIxzvwybiv",
        "colab": {
          "base_uri": "https://localhost:8080/"
        },
        "outputId": "1cf0ec72-9546-4041-f869-7b58794fb5be"
      },
      "source": [
        "def preprocess_corpus(corpus):\n",
        "    '''\n",
        "    Code for preprocessing corpus \n",
        "    \n",
        "    '''\n",
        "  \n",
        "    corpus_new = []#creating empty list\n",
        "\n",
        "    for sen in corpus:\n",
        "      sentence_new = [] \n",
        "      for wor in sen:\n",
        "        if len(wor.strip()) == 0: #removing empty string\n",
        "          continue\n",
        "        if wor.isalpha():\n",
        "            # Make sure each word is converted to Lower case when appending to the sentence \n",
        "          if wor not in stopwords:\n",
        "            sentence_new.append(wor.lower())\n",
        "      # append the pre-processed sentence to the Newcorpus      \n",
        "      corpus_new.append(sentence_new)\n",
        "\n",
        "    # removing sentences with fewer than 3 words \n",
        "    updated_corpus_new = []\n",
        "    for l in corpus_new:\n",
        "      if(len(l)>3):\n",
        "        updated_corpus_new.append(l) \n",
        "    \n",
        "    return updated_corpus_new\n",
        "    \n",
        "\n",
        "normalized_corpus = preprocess_corpus(austen)\n",
        "print('The new length of the preprocessed output',len(normalized_corpus))"
      ],
      "execution_count": null,
      "outputs": [
        {
          "output_type": "stream",
          "text": [
            "The new length of the preprocessed output 13651\n"
          ],
          "name": "stdout"
        }
      ]
    },
    {
      "cell_type": "markdown",
      "metadata": {
        "id": "yEjS80qz3ymf"
      },
      "source": [
        "<br>> We will first create a new corpus to all the sentences which are pre-processed and loop through all the sentences.\n",
        "<br>>We loop through every sentence and each word in all the sentences considering alphabets only and ignoring special characters and numbers\n",
        "<br>> Removed stop words, words with less than 3 in a sentence and return the updated corpus.\n",
        "\n",
        "\n"
      ]
    },
    {
      "cell_type": "code",
      "metadata": {
        "id": "tJ1qxoq-8Kob",
        "colab": {
          "base_uri": "https://localhost:8080/"
        },
        "outputId": "253e6654-dad0-4a8d-b6f0-bd1bfac3fbdd"
      },
      "source": [
        "sample = austen[:2] + austen[100:102]\n",
        "preprocessed_sample = preprocess_corpus(sample)\n",
        "\n",
        "print(len(sample), sample)\n",
        "print()\n",
        "print(len(preprocessed_sample), preprocessed_sample)"
      ],
      "execution_count": null,
      "outputs": [
        {
          "output_type": "stream",
          "text": [
            "4 [['[', 'Sense', 'and', 'Sensibility', 'by', 'Jane', 'Austen', '1811', ']'], ['CHAPTER', '1'], ['But', ',', 'then', ',', 'if', 'Mrs', '.', 'Dashwood', 'should', 'live', 'fifteen', 'years', 'we', 'shall', 'be', 'completely', 'taken', 'in', '.\"'], ['\"', 'Fifteen', 'years', '!']]\n",
            "\n",
            "2 [['sense', 'sensibility', 'jane', 'austen'], ['but', 'mrs', 'dashwood', 'live', 'fifteen', 'years', 'shall', 'completely', 'taken']]\n"
          ],
          "name": "stdout"
        }
      ]
    },
    {
      "cell_type": "markdown",
      "metadata": {
        "id": "rghchHA66d-V"
      },
      "source": [
        "### **3. Creating the Corpus Vocabulary and Preparing the Data**\n",
        "\n",
        "\n",
        "1. word2idx: a lookup table, a dictionary of (word index: word) pairs where **word index** is a unique integer assigned to every **unique word** in the corpus.\n",
        "2. idx2word: a dictionary of (token: token index), a reversal of \\<word2idx>. \n",
        "3. sents_as_ids: The input to the model cannot be text, rather, each word needs to be represented by a unique integer and each sentence an array of integers.\n",
        "\n",
        "\n"
      ]
    },
    {
      "cell_type": "code",
      "metadata": {
        "id": "gmqUdSuU8PyK"
      },
      "source": [
        "# creating word2idx and idx2word dictionaries\n",
        "word2idx =  {}\n",
        "idx2word =  {}\n",
        " \n",
        "def prepareData(normalized_corpus):\n",
        "\n",
        "    vocabular = []\n",
        "\n",
        "    for sen in normalized_corpus:\n",
        "      for i in sen:\n",
        "        vocabular.append(i)\n",
        "    # to ignore repeated words we store the vocab in set \n",
        "    vocabular = list(set(vocabular))\n",
        "    \n",
        "    word2idx = {vocabular[i]:i for i in range(len(vocabular))}\n",
        "   \n",
        "    idx2word = {i:vocabular[i] for i in range(len(vocabular))}\n",
        "\n",
        "    return word2idx,idx2word\n",
        "\n",
        "word2idx,idx2word = prepareData(normalized_corpus)"
      ],
      "execution_count": null,
      "outputs": []
    },
    {
      "cell_type": "code",
      "metadata": {
        "id": "0v_1BJUA-m-5"
      },
      "source": [
        "\n",
        "def prepareSentsAsId(normalized_corpus):\n",
        "  # create a empty List \n",
        " # Loop through all the Sentences in the Corpus and through all the words in the sentence \n",
        " # we use word2idx is to find the index of the respective word and append this Index to the empty sentence list\n",
        "    \n",
        "    sentence_as_ids = []\n",
        "    for sen in normalized_corpus:\n",
        "      sentence_new = []#to store sentence id\n",
        "      for wor in sen:\n",
        "        idx = word2idx[wor]\n",
        "        sentence_new.append(idx)\n",
        "      \n",
        "      sentence_as_ids.append(sentence_new)\n",
        "     \n",
        "    return sentence_as_ids\n",
        "\n",
        "sentence_as_ids = prepareSentsAsId(normalized_corpus)\n",
        " # A Corpus which has each sentence represented as their ID's is created "
      ],
      "execution_count": null,
      "outputs": []
    },
    {
      "cell_type": "markdown",
      "metadata": {
        "id": "TSDAHuUvUlj9"
      },
      "source": [
        "**Sanity Check**"
      ]
    },
    {
      "cell_type": "code",
      "metadata": {
        "colab": {
          "base_uri": "https://localhost:8080/"
        },
        "id": "vIpY7FNsBLn4",
        "outputId": "783c7117-c131-4c8c-864f-91ad404e2c43"
      },
      "source": [
        "print('Number of unique words:', len(word2idx))"
      ],
      "execution_count": null,
      "outputs": [
        {
          "output_type": "stream",
          "text": [
            "Number of unique words: 10180\n"
          ],
          "name": "stdout"
        }
      ]
    },
    {
      "cell_type": "markdown",
      "metadata": {
        "id": "Gp2XXx8RBSiR"
      },
      "source": [
        "*  The Number of Unique words in the Corpus are 10180"
      ]
    },
    {
      "cell_type": "code",
      "metadata": {
        "colab": {
          "base_uri": "https://localhost:8080/"
        },
        "id": "fB4DSK1RBQtV",
        "outputId": "406f61ae-3f23-4313-b688-9f230cc5418b"
      },
      "source": [
        "print('\\nSample word2idx: ', list(word2idx.items())[:10])"
      ],
      "execution_count": null,
      "outputs": [
        {
          "output_type": "stream",
          "text": [
            "\n",
            "Sample word2idx:  [('assistant', 0), ('conferred', 1), ('affectionately', 2), ('unpretending', 3), ('solitarily', 4), ('electrified', 5), ('snow', 6), ('projected', 7), ('friends', 8), ('equal', 9)]\n"
          ],
          "name": "stdout"
        }
      ]
    },
    {
      "cell_type": "code",
      "metadata": {
        "colab": {
          "base_uri": "https://localhost:8080/"
        },
        "id": "7f6-hQ7JBg2E",
        "outputId": "1fedd20b-ad7c-48a3-dec9-0fff37c2e31f"
      },
      "source": [
        "print('\\nSample idx2word:', list(idx2word.items())[:10])"
      ],
      "execution_count": null,
      "outputs": [
        {
          "output_type": "stream",
          "text": [
            "\n",
            "Sample idx2word: [(0, 'assistant'), (1, 'conferred'), (2, 'affectionately'), (3, 'unpretending'), (4, 'solitarily'), (5, 'electrified'), (6, 'snow'), (7, 'projected'), (8, 'friends'), (9, 'equal')]\n"
          ],
          "name": "stdout"
        }
      ]
    },
    {
      "cell_type": "code",
      "metadata": {
        "colab": {
          "base_uri": "https://localhost:8080/"
        },
        "id": "maoYEVKdpO0H",
        "outputId": "252f560c-8f44-4585-eb0d-974582a46d43"
      },
      "source": [
        "print('\\nSample sents_as_id:', prepareSentsAsId(preprocessed_sample))"
      ],
      "execution_count": null,
      "outputs": [
        {
          "output_type": "stream",
          "text": [
            "\n",
            "Sample sents_as_id: [[6244, 5101, 9405, 1629], [9949, 8698, 8993, 3435, 7965, 5397, 9864, 9631, 4503]]\n"
          ],
          "name": "stdout"
        }
      ]
    },
    {
      "cell_type": "code",
      "metadata": {
        "id": "WGsp5Lij8qUd"
      },
      "source": [
        "VOCAB_SIZE = len(word2idx) \n",
        "EMBED_SIZE = 100 # We are creating 100D embeddings."
      ],
      "execution_count": null,
      "outputs": []
    },
    {
      "cell_type": "code",
      "metadata": {
        "id": "u_yjd5kgqiZi",
        "colab": {
          "base_uri": "https://localhost:8080/"
        },
        "outputId": "7cdd6056-aa0c-407a-910d-60bd543ca844"
      },
      "source": [
        "print('Number of unique words:', len(word2idx))"
      ],
      "execution_count": null,
      "outputs": [
        {
          "output_type": "stream",
          "text": [
            "Number of unique words: 10180\n"
          ],
          "name": "stdout"
        }
      ]
    },
    {
      "cell_type": "markdown",
      "metadata": {
        "id": "WXhJNdf9TIed"
      },
      "source": [
        "### **4. Generating training instances**\n",
        "\n",
        "\n",
        "In this section we would generate the training examples using the keras skip-gram generator "
      ]
    },
    {
      "cell_type": "code",
      "metadata": {
        "id": "e3g0FLzb7ivg"
      },
      "source": [
        "from keras.preprocessing.sequence import skipgrams\n",
        "# your code for generating training examples goes here\n",
        "# Each sentence is passed to skipgrams and all the positive and negative pairs for this sentence are generated based on context and target\n",
        "skip_grams = [skipgrams(sent, vocabulary_size=VOCAB_SIZE, window_size=5) for sent in sentence_as_ids]\n"
      ],
      "execution_count": null,
      "outputs": []
    },
    {
      "cell_type": "markdown",
      "metadata": {
        "id": "EDyy65QlTyf2"
      },
      "source": [
        "**Sanity Check:**\n",
        "\n",
        "To view the skip_grams for the first sentence in the training data."
      ]
    },
    {
      "cell_type": "code",
      "metadata": {
        "id": "Qa072PMvTvde",
        "colab": {
          "base_uri": "https://localhost:8080/"
        },
        "outputId": "3e08a38b-aa0a-4760-a153-9aa96fb39db4"
      },
      "source": [
        "# check the First example \n",
        "print('Generating Positive and Negative pairs for the first sentence \\n',normalized_corpus[0])\n",
        "# We use the sentence Id of this particular sentence and pick all the Positive and Negative Pairs along with their labels\n",
        "\n",
        "pairs, labels = skip_grams[0][0], skip_grams[0][1]\n",
        "for i in range(len(pairs)):\n",
        "         \tprint('({:s} ({:d}), {:s} ({:d})) -> {:d}'.format(\n",
        "        \t# the first word and its index\n",
        "        \tidx2word[pairs[i][0]], pairs[i][0],\n",
        "        \t# the second word and its index\n",
        "        \tidx2word[pairs[i][1]], pairs[i][1],\n",
        "        \t# the label\n",
        "        \tlabels[i]))"
      ],
      "execution_count": null,
      "outputs": [
        {
          "output_type": "stream",
          "text": [
            "Generating Positive and Negative pairs for the first sentence \n",
            " ['sense', 'sensibility', 'jane', 'austen']\n",
            "(jane (9405), austen (1629)) -> 1\n",
            "(austen (1629), impatience (8923)) -> 0\n",
            "(sense (6244), give (6390)) -> 0\n",
            "(sensibility (5101), guess (1029)) -> 0\n",
            "(austen (1629), sensibility (5101)) -> 1\n",
            "(sense (6244), letting (4113)) -> 0\n",
            "(sense (6244), sensibility (5101)) -> 1\n",
            "(austen (1629), extorting (7391)) -> 0\n",
            "(sensibility (5101), jane (9405)) -> 1\n",
            "(jane (9405), sense (6244)) -> 1\n",
            "(austen (1629), aches (2988)) -> 0\n",
            "(jane (9405), wore (402)) -> 0\n",
            "(sensibility (5101), austen (1629)) -> 1\n",
            "(sensibility (5101), bolder (7602)) -> 0\n",
            "(sense (6244), jane (9405)) -> 1\n",
            "(sense (6244), undue (6519)) -> 0\n",
            "(jane (9405), alert (42)) -> 0\n",
            "(austen (1629), sense (6244)) -> 1\n",
            "(jane (9405), lashes (9676)) -> 0\n",
            "(sense (6244), austen (1629)) -> 1\n",
            "(jane (9405), sensibility (5101)) -> 1\n",
            "(sensibility (5101), closing (7992)) -> 0\n",
            "(sensibility (5101), sense (6244)) -> 1\n",
            "(austen (1629), jane (9405)) -> 1\n"
          ],
          "name": "stdout"
        }
      ]
    },
    {
      "cell_type": "markdown",
      "metadata": {
        "id": "uMQJAolZWVLx"
      },
      "source": [
        "### **5. Building the Skip-gram Neural Network Architecture**\n",
        "\n",
        "In this section we would be building the skip-gram neural network architecture using the Keras Functional API and the Sequential model "
      ]
    },
    {
      "cell_type": "code",
      "metadata": {
        "id": "fi0JmuY-Tlsp"
      },
      "source": [
        "from keras.layers import Dot, Input\n",
        "from keras.layers.core import Dense, Reshape\n",
        "from keras.layers.embeddings import Embedding\n",
        "from keras.models import Model\n",
        "from keras.utils import plot_model\n",
        "import numpy as np"
      ],
      "execution_count": null,
      "outputs": []
    },
    {
      "cell_type": "markdown",
      "metadata": {
        "id": "22d8UIg-cBOc"
      },
      "source": [
        "The skip-gram model is two input one output feedforward neural network with one hidden layer and this will be built over a series of steps.\n",
        "\n",
        "####**A. The first step is to initialize and transform the first input :**"
      ]
    },
    {
      "cell_type": "code",
      "metadata": {
        "id": "ggqykF7WUyGP"
      },
      "source": [
        "# The input is an array of target indices e.g. [2, 45, 7, 23,...9]\n",
        "target_word = Input((1,), dtype='int32')\n",
        "#We input The Sentence Id of the sentence as target_word\n",
        "#We create a Embedding matrix- which constitutes,100-dim Vector \n",
        "#We use this index of word to extract the Embedding from the Ebedding Matrix\n",
        "#We pass the Input as Batches so the gradient reaches the minimum soon.\n",
        "target_embedding = Embedding(VOCAB_SIZE, EMBED_SIZE, name='target_embed_layer',\n",
        "                        \tembeddings_initializer='glorot_uniform',\n",
        "                         \tinput_length=1)(target_word)\n",
        "#Reshape the 3-D tensor as a 2-D tensor using Reshape Function in Keras\n",
        "target_input = Reshape((EMBED_SIZE, ))(target_embedding)"
      ],
      "execution_count": null,
      "outputs": []
    },
    {
      "cell_type": "markdown",
      "metadata": {
        "id": "GXn_SVjHckwL"
      },
      "source": [
        "####**B.Code for the ‘context_word’ input.**"
      ]
    },
    {
      "cell_type": "code",
      "metadata": {
        "id": "vkCyRztYcMsp"
      },
      "source": [
        "# your code for the context_word goes here\n",
        "# The input is an array of target indices e.g. [2, 45, 7, 23,...9]\n",
        "context_word = Input((1,), dtype='int32')\n",
        "\n",
        "# feed the words into the model using the Keras <Embedding> layer\n",
        "# from whose weights we will get the word embeddings.\n",
        "context_embedding = Embedding(VOCAB_SIZE, EMBED_SIZE, name='context_embed_layer',\n",
        "                        \tembeddings_initializer='glorot_uniform',\n",
        "                         \tinput_length=1)(context_word)\n",
        "\n",
        "#Reshape the 3-D tensor as a 2-D tensor using Reshape Function in Keras\n",
        "context_input = Reshape((EMBED_SIZE, ))(context_embedding)"
      ],
      "execution_count": null,
      "outputs": []
    },
    {
      "cell_type": "markdown",
      "metadata": {
        "id": "btNWVWRqdBJV"
      },
      "source": [
        "####**C. Merging the inputs.**\n"
      ]
    },
    {
      "cell_type": "code",
      "metadata": {
        "id": "WL0_IgA0cYBx",
        "colab": {
          "base_uri": "https://localhost:8080/"
        },
        "outputId": "ab881f6f-c2f3-4dc7-fa09-3aa4fa42591f"
      },
      "source": [
        "\n",
        "merged_inputs = Dot(axes=-1, normalize=False)([target_input, context_input])\n",
        "merged_inputs.shape"
      ],
      "execution_count": null,
      "outputs": [
        {
          "output_type": "execute_result",
          "data": {
            "text/plain": [
              "TensorShape([None, 1])"
            ]
          },
          "metadata": {
            "tags": []
          },
          "execution_count": 26
        }
      ]
    },
    {
      "cell_type": "markdown",
      "metadata": {
        "id": "vQEsxQ6We1Ob"
      },
      "source": [
        "####**D. The Output Layer**\n",
        "\n",
        "Pass the merged inputs (now a vector with a single number the cosine distance between the two input vectors for each word) into a sigmoid activated neuron. The output of this layer is the output of the model.\n",
        "\n"
      ]
    },
    {
      "cell_type": "code",
      "metadata": {
        "id": "uAUxsadqcj6Q"
      },
      "source": [
        "# Using sigmoid activation function\n",
        "from tensorflow.keras.layers import Activation\n",
        "label = Activation('sigmoid')(merged_inputs)\n"
      ],
      "execution_count": null,
      "outputs": []
    },
    {
      "cell_type": "markdown",
      "metadata": {
        "id": "yQk1Yj8wfXrF"
      },
      "source": [
        "####**E. Initializing the model:**"
      ]
    },
    {
      "cell_type": "code",
      "metadata": {
        "id": "YHRICxY7cdBB"
      },
      "source": [
        "# label is the output of step D.\n",
        "model = Model(inputs=[target_word, context_word], outputs=[label])  "
      ],
      "execution_count": null,
      "outputs": []
    },
    {
      "cell_type": "markdown",
      "metadata": {
        "id": "DdbRI0TGVZIt"
      },
      "source": [
        "####**F. Compile the model** "
      ]
    },
    {
      "cell_type": "code",
      "metadata": {
        "id": "5LtWvavefueu"
      },
      "source": [
        "# your code here\n",
        "model.compile(loss='mean_squared_error', optimizer='rmsprop')"
      ],
      "execution_count": null,
      "outputs": []
    },
    {
      "cell_type": "markdown",
      "metadata": {
        "id": "GC7IShG_fczC"
      },
      "source": [
        "**Sanity check:**\n",
        "\n"
      ]
    },
    {
      "cell_type": "code",
      "metadata": {
        "colab": {
          "base_uri": "https://localhost:8080/"
        },
        "id": "e0ki6JDkgJNA",
        "outputId": "614d3345-52d2-458d-e582-ed276f2053a7"
      },
      "source": [
        "model.summary()"
      ],
      "execution_count": null,
      "outputs": [
        {
          "output_type": "stream",
          "text": [
            "Model: \"model\"\n",
            "__________________________________________________________________________________________________\n",
            "Layer (type)                    Output Shape         Param #     Connected to                     \n",
            "==================================================================================================\n",
            "input_1 (InputLayer)            [(None, 1)]          0                                            \n",
            "__________________________________________________________________________________________________\n",
            "input_2 (InputLayer)            [(None, 1)]          0                                            \n",
            "__________________________________________________________________________________________________\n",
            "target_embed_layer (Embedding)  (None, 1, 100)       1018000     input_1[0][0]                    \n",
            "__________________________________________________________________________________________________\n",
            "context_embed_layer (Embedding) (None, 1, 100)       1018000     input_2[0][0]                    \n",
            "__________________________________________________________________________________________________\n",
            "reshape (Reshape)               (None, 100)          0           target_embed_layer[0][0]         \n",
            "__________________________________________________________________________________________________\n",
            "reshape_1 (Reshape)             (None, 100)          0           context_embed_layer[0][0]        \n",
            "__________________________________________________________________________________________________\n",
            "dot (Dot)                       (None, 1)            0           reshape[0][0]                    \n",
            "                                                                 reshape_1[0][0]                  \n",
            "__________________________________________________________________________________________________\n",
            "activation_1 (Activation)       (None, 1)            0           dot[0][0]                        \n",
            "==================================================================================================\n",
            "Total params: 2,036,000\n",
            "Trainable params: 2,036,000\n",
            "Non-trainable params: 0\n",
            "__________________________________________________________________________________________________\n"
          ],
          "name": "stdout"
        }
      ]
    },
    {
      "cell_type": "markdown",
      "metadata": {
        "id": "3VVPnyFhgVr9"
      },
      "source": [
        "####**G. Plotting the model  .**"
      ]
    },
    {
      "cell_type": "code",
      "metadata": {
        "colab": {
          "base_uri": "https://localhost:8080/",
          "height": 450
        },
        "id": "vvfO-ensggr4",
        "outputId": "986ef24d-91e2-4e68-a9cd-296d3ae8462c"
      },
      "source": [
        "from IPython.display import SVG\n",
        "from keras.utils import vis_utils\n",
        "SVG(vis_utils.model_to_dot(model, show_shapes=True, show_layer_names=True, dpi=60).create(prog='dot', format='svg'))  "
      ],
      "execution_count": null,
      "outputs": [
        {
          "output_type": "execute_result",
          "data": {
            "text/plain": [
              "<IPython.core.display.SVG object>"
            ],
            "image/svg+xml": "<svg height=\"322pt\" viewBox=\"0.00 0.00 765.50 387.00\" width=\"638pt\" xmlns=\"http://www.w3.org/2000/svg\" xmlns:xlink=\"http://www.w3.org/1999/xlink\">\n<g class=\"graph\" id=\"graph0\" transform=\"scale(.8333 .8333) rotate(0) translate(4 383)\">\n<title>G</title>\n<polygon fill=\"#ffffff\" points=\"-4,4 -4,-383 761.5,-383 761.5,4 -4,4\" stroke=\"transparent\"/>\n<!-- 139758283772240 -->\n<g class=\"node\" id=\"node1\">\n<title>139758283772240</title>\n<polygon fill=\"none\" points=\"46,-332.5 46,-378.5 318,-378.5 318,-332.5 46,-332.5\" stroke=\"#000000\"/>\n<text fill=\"#000000\" font-family=\"Times,serif\" font-size=\"14.00\" text-anchor=\"middle\" x=\"112.5\" y=\"-351.8\">input_1: InputLayer</text>\n<polyline fill=\"none\" points=\"179,-332.5 179,-378.5 \" stroke=\"#000000\"/>\n<text fill=\"#000000\" font-family=\"Times,serif\" font-size=\"14.00\" text-anchor=\"middle\" x=\"208\" y=\"-363.3\">input:</text>\n<polyline fill=\"none\" points=\"179,-355.5 237,-355.5 \" stroke=\"#000000\"/>\n<text fill=\"#000000\" font-family=\"Times,serif\" font-size=\"14.00\" text-anchor=\"middle\" x=\"208\" y=\"-340.3\">output:</text>\n<polyline fill=\"none\" points=\"237,-332.5 237,-378.5 \" stroke=\"#000000\"/>\n<text fill=\"#000000\" font-family=\"Times,serif\" font-size=\"14.00\" text-anchor=\"middle\" x=\"277.5\" y=\"-363.3\">[(None, 1)]</text>\n<polyline fill=\"none\" points=\"237,-355.5 318,-355.5 \" stroke=\"#000000\"/>\n<text fill=\"#000000\" font-family=\"Times,serif\" font-size=\"14.00\" text-anchor=\"middle\" x=\"277.5\" y=\"-340.3\">[(None, 1)]</text>\n</g>\n<!-- 139757413121552 -->\n<g class=\"node\" id=\"node3\">\n<title>139757413121552</title>\n<polygon fill=\"none\" points=\"0,-249.5 0,-295.5 364,-295.5 364,-249.5 0,-249.5\" stroke=\"#000000\"/>\n<text fill=\"#000000\" font-family=\"Times,serif\" font-size=\"14.00\" text-anchor=\"middle\" x=\"102\" y=\"-268.8\">target_embed_layer: Embedding</text>\n<polyline fill=\"none\" points=\"204,-249.5 204,-295.5 \" stroke=\"#000000\"/>\n<text fill=\"#000000\" font-family=\"Times,serif\" font-size=\"14.00\" text-anchor=\"middle\" x=\"233\" y=\"-280.3\">input:</text>\n<polyline fill=\"none\" points=\"204,-272.5 262,-272.5 \" stroke=\"#000000\"/>\n<text fill=\"#000000\" font-family=\"Times,serif\" font-size=\"14.00\" text-anchor=\"middle\" x=\"233\" y=\"-257.3\">output:</text>\n<polyline fill=\"none\" points=\"262,-249.5 262,-295.5 \" stroke=\"#000000\"/>\n<text fill=\"#000000\" font-family=\"Times,serif\" font-size=\"14.00\" text-anchor=\"middle\" x=\"313\" y=\"-280.3\">(None, 1)</text>\n<polyline fill=\"none\" points=\"262,-272.5 364,-272.5 \" stroke=\"#000000\"/>\n<text fill=\"#000000\" font-family=\"Times,serif\" font-size=\"14.00\" text-anchor=\"middle\" x=\"313\" y=\"-257.3\">(None, 1, 100)</text>\n</g>\n<!-- 139758283772240&#45;&gt;139757413121552 -->\n<g class=\"edge\" id=\"edge1\">\n<title>139758283772240-&gt;139757413121552</title>\n<path d=\"M182,-332.3799C182,-324.1745 182,-314.7679 182,-305.8786\" fill=\"none\" stroke=\"#000000\"/>\n<polygon fill=\"#000000\" points=\"185.5001,-305.784 182,-295.784 178.5001,-305.784 185.5001,-305.784\" stroke=\"#000000\"/>\n</g>\n<!-- 139757014672912 -->\n<g class=\"node\" id=\"node2\">\n<title>139757014672912</title>\n<polygon fill=\"none\" points=\"434,-332.5 434,-378.5 706,-378.5 706,-332.5 434,-332.5\" stroke=\"#000000\"/>\n<text fill=\"#000000\" font-family=\"Times,serif\" font-size=\"14.00\" text-anchor=\"middle\" x=\"500.5\" y=\"-351.8\">input_2: InputLayer</text>\n<polyline fill=\"none\" points=\"567,-332.5 567,-378.5 \" stroke=\"#000000\"/>\n<text fill=\"#000000\" font-family=\"Times,serif\" font-size=\"14.00\" text-anchor=\"middle\" x=\"596\" y=\"-363.3\">input:</text>\n<polyline fill=\"none\" points=\"567,-355.5 625,-355.5 \" stroke=\"#000000\"/>\n<text fill=\"#000000\" font-family=\"Times,serif\" font-size=\"14.00\" text-anchor=\"middle\" x=\"596\" y=\"-340.3\">output:</text>\n<polyline fill=\"none\" points=\"625,-332.5 625,-378.5 \" stroke=\"#000000\"/>\n<text fill=\"#000000\" font-family=\"Times,serif\" font-size=\"14.00\" text-anchor=\"middle\" x=\"665.5\" y=\"-363.3\">[(None, 1)]</text>\n<polyline fill=\"none\" points=\"625,-355.5 706,-355.5 \" stroke=\"#000000\"/>\n<text fill=\"#000000\" font-family=\"Times,serif\" font-size=\"14.00\" text-anchor=\"middle\" x=\"665.5\" y=\"-340.3\">[(None, 1)]</text>\n</g>\n<!-- 139757014673616 -->\n<g class=\"node\" id=\"node4\">\n<title>139757014673616</title>\n<polygon fill=\"none\" points=\"382.5,-249.5 382.5,-295.5 757.5,-295.5 757.5,-249.5 382.5,-249.5\" stroke=\"#000000\"/>\n<text fill=\"#000000\" font-family=\"Times,serif\" font-size=\"14.00\" text-anchor=\"middle\" x=\"490\" y=\"-268.8\">context_embed_layer: Embedding</text>\n<polyline fill=\"none\" points=\"597.5,-249.5 597.5,-295.5 \" stroke=\"#000000\"/>\n<text fill=\"#000000\" font-family=\"Times,serif\" font-size=\"14.00\" text-anchor=\"middle\" x=\"626.5\" y=\"-280.3\">input:</text>\n<polyline fill=\"none\" points=\"597.5,-272.5 655.5,-272.5 \" stroke=\"#000000\"/>\n<text fill=\"#000000\" font-family=\"Times,serif\" font-size=\"14.00\" text-anchor=\"middle\" x=\"626.5\" y=\"-257.3\">output:</text>\n<polyline fill=\"none\" points=\"655.5,-249.5 655.5,-295.5 \" stroke=\"#000000\"/>\n<text fill=\"#000000\" font-family=\"Times,serif\" font-size=\"14.00\" text-anchor=\"middle\" x=\"706.5\" y=\"-280.3\">(None, 1)</text>\n<polyline fill=\"none\" points=\"655.5,-272.5 757.5,-272.5 \" stroke=\"#000000\"/>\n<text fill=\"#000000\" font-family=\"Times,serif\" font-size=\"14.00\" text-anchor=\"middle\" x=\"706.5\" y=\"-257.3\">(None, 1, 100)</text>\n</g>\n<!-- 139757014672912&#45;&gt;139757014673616 -->\n<g class=\"edge\" id=\"edge2\">\n<title>139757014672912-&gt;139757014673616</title>\n<path d=\"M570,-332.3799C570,-324.1745 570,-314.7679 570,-305.8786\" fill=\"none\" stroke=\"#000000\"/>\n<polygon fill=\"#000000\" points=\"573.5001,-305.784 570,-295.784 566.5001,-305.784 573.5001,-305.784\" stroke=\"#000000\"/>\n</g>\n<!-- 139757413039120 -->\n<g class=\"node\" id=\"node5\">\n<title>139757413039120</title>\n<polygon fill=\"none\" points=\"87.5,-166.5 87.5,-212.5 362.5,-212.5 362.5,-166.5 87.5,-166.5\" stroke=\"#000000\"/>\n<text fill=\"#000000\" font-family=\"Times,serif\" font-size=\"14.00\" text-anchor=\"middle\" x=\"145\" y=\"-185.8\">reshape: Reshape</text>\n<polyline fill=\"none\" points=\"202.5,-166.5 202.5,-212.5 \" stroke=\"#000000\"/>\n<text fill=\"#000000\" font-family=\"Times,serif\" font-size=\"14.00\" text-anchor=\"middle\" x=\"231.5\" y=\"-197.3\">input:</text>\n<polyline fill=\"none\" points=\"202.5,-189.5 260.5,-189.5 \" stroke=\"#000000\"/>\n<text fill=\"#000000\" font-family=\"Times,serif\" font-size=\"14.00\" text-anchor=\"middle\" x=\"231.5\" y=\"-174.3\">output:</text>\n<polyline fill=\"none\" points=\"260.5,-166.5 260.5,-212.5 \" stroke=\"#000000\"/>\n<text fill=\"#000000\" font-family=\"Times,serif\" font-size=\"14.00\" text-anchor=\"middle\" x=\"311.5\" y=\"-197.3\">(None, 1, 100)</text>\n<polyline fill=\"none\" points=\"260.5,-189.5 362.5,-189.5 \" stroke=\"#000000\"/>\n<text fill=\"#000000\" font-family=\"Times,serif\" font-size=\"14.00\" text-anchor=\"middle\" x=\"311.5\" y=\"-174.3\">(None, 100)</text>\n</g>\n<!-- 139757413121552&#45;&gt;139757413039120 -->\n<g class=\"edge\" id=\"edge3\">\n<title>139757413121552-&gt;139757413039120</title>\n<path d=\"M193.9779,-249.3799C198.4137,-240.8178 203.5271,-230.9477 208.3066,-221.7222\" fill=\"none\" stroke=\"#000000\"/>\n<polygon fill=\"#000000\" points=\"211.4448,-223.2732 212.9372,-212.784 205.2294,-220.0531 211.4448,-223.2732\" stroke=\"#000000\"/>\n</g>\n<!-- 139757014674128 -->\n<g class=\"node\" id=\"node6\">\n<title>139757014674128</title>\n<polygon fill=\"none\" points=\"403,-166.5 403,-212.5 693,-212.5 693,-166.5 403,-166.5\" stroke=\"#000000\"/>\n<text fill=\"#000000\" font-family=\"Times,serif\" font-size=\"14.00\" text-anchor=\"middle\" x=\"468\" y=\"-185.8\">reshape_1: Reshape</text>\n<polyline fill=\"none\" points=\"533,-166.5 533,-212.5 \" stroke=\"#000000\"/>\n<text fill=\"#000000\" font-family=\"Times,serif\" font-size=\"14.00\" text-anchor=\"middle\" x=\"562\" y=\"-197.3\">input:</text>\n<polyline fill=\"none\" points=\"533,-189.5 591,-189.5 \" stroke=\"#000000\"/>\n<text fill=\"#000000\" font-family=\"Times,serif\" font-size=\"14.00\" text-anchor=\"middle\" x=\"562\" y=\"-174.3\">output:</text>\n<polyline fill=\"none\" points=\"591,-166.5 591,-212.5 \" stroke=\"#000000\"/>\n<text fill=\"#000000\" font-family=\"Times,serif\" font-size=\"14.00\" text-anchor=\"middle\" x=\"642\" y=\"-197.3\">(None, 1, 100)</text>\n<polyline fill=\"none\" points=\"591,-189.5 693,-189.5 \" stroke=\"#000000\"/>\n<text fill=\"#000000\" font-family=\"Times,serif\" font-size=\"14.00\" text-anchor=\"middle\" x=\"642\" y=\"-174.3\">(None, 100)</text>\n</g>\n<!-- 139757014673616&#45;&gt;139757014674128 -->\n<g class=\"edge\" id=\"edge4\">\n<title>139757014673616-&gt;139757014674128</title>\n<path d=\"M563.8718,-249.3799C561.6732,-241.0854 559.1493,-231.5633 556.7706,-222.5889\" fill=\"none\" stroke=\"#000000\"/>\n<polygon fill=\"#000000\" points=\"560.117,-221.5534 554.1717,-212.784 553.3507,-223.347 560.117,-221.5534\" stroke=\"#000000\"/>\n</g>\n<!-- 139757014704336 -->\n<g class=\"node\" id=\"node7\">\n<title>139757014704336</title>\n<polygon fill=\"none\" points=\"226.5,-83.5 226.5,-129.5 523.5,-129.5 523.5,-83.5 226.5,-83.5\" stroke=\"#000000\"/>\n<text fill=\"#000000\" font-family=\"Times,serif\" font-size=\"14.00\" text-anchor=\"middle\" x=\"259\" y=\"-102.8\">dot: Dot</text>\n<polyline fill=\"none\" points=\"291.5,-83.5 291.5,-129.5 \" stroke=\"#000000\"/>\n<text fill=\"#000000\" font-family=\"Times,serif\" font-size=\"14.00\" text-anchor=\"middle\" x=\"320.5\" y=\"-114.3\">input:</text>\n<polyline fill=\"none\" points=\"291.5,-106.5 349.5,-106.5 \" stroke=\"#000000\"/>\n<text fill=\"#000000\" font-family=\"Times,serif\" font-size=\"14.00\" text-anchor=\"middle\" x=\"320.5\" y=\"-91.3\">output:</text>\n<polyline fill=\"none\" points=\"349.5,-83.5 349.5,-129.5 \" stroke=\"#000000\"/>\n<text fill=\"#000000\" font-family=\"Times,serif\" font-size=\"14.00\" text-anchor=\"middle\" x=\"436.5\" y=\"-114.3\">[(None, 100), (None, 100)]</text>\n<polyline fill=\"none\" points=\"349.5,-106.5 523.5,-106.5 \" stroke=\"#000000\"/>\n<text fill=\"#000000\" font-family=\"Times,serif\" font-size=\"14.00\" text-anchor=\"middle\" x=\"436.5\" y=\"-91.3\">(None, 1)</text>\n</g>\n<!-- 139757413039120&#45;&gt;139757014704336 -->\n<g class=\"edge\" id=\"edge5\">\n<title>139757413039120-&gt;139757014704336</title>\n<path d=\"M266.7834,-166.3799C284.5881,-156.5279 305.5226,-144.9442 324.2107,-134.6034\" fill=\"none\" stroke=\"#000000\"/>\n<polygon fill=\"#000000\" points=\"326.1256,-137.544 333.1808,-129.6399 322.7364,-131.4191 326.1256,-137.544\" stroke=\"#000000\"/>\n</g>\n<!-- 139757014674128&#45;&gt;139757014704336 -->\n<g class=\"edge\" id=\"edge6\">\n<title>139757014674128-&gt;139757014704336</title>\n<path d=\"M499.8099,-166.3799C478.9017,-156.3488 454.2514,-144.5224 432.404,-134.0406\" fill=\"none\" stroke=\"#000000\"/>\n<polygon fill=\"#000000\" points=\"433.7615,-130.81 423.2315,-129.6399 430.7335,-137.1212 433.7615,-130.81\" stroke=\"#000000\"/>\n</g>\n<!-- 139757014619088 -->\n<g class=\"node\" id=\"node8\">\n<title>139757014619088</title>\n<polygon fill=\"none\" points=\"233,-.5 233,-46.5 517,-46.5 517,-.5 233,-.5\" stroke=\"#000000\"/>\n<text fill=\"#000000\" font-family=\"Times,serif\" font-size=\"14.00\" text-anchor=\"middle\" x=\"310\" y=\"-19.8\">activation_1: Activation</text>\n<polyline fill=\"none\" points=\"387,-.5 387,-46.5 \" stroke=\"#000000\"/>\n<text fill=\"#000000\" font-family=\"Times,serif\" font-size=\"14.00\" text-anchor=\"middle\" x=\"416\" y=\"-31.3\">input:</text>\n<polyline fill=\"none\" points=\"387,-23.5 445,-23.5 \" stroke=\"#000000\"/>\n<text fill=\"#000000\" font-family=\"Times,serif\" font-size=\"14.00\" text-anchor=\"middle\" x=\"416\" y=\"-8.3\">output:</text>\n<polyline fill=\"none\" points=\"445,-.5 445,-46.5 \" stroke=\"#000000\"/>\n<text fill=\"#000000\" font-family=\"Times,serif\" font-size=\"14.00\" text-anchor=\"middle\" x=\"481\" y=\"-31.3\">(None, 1)</text>\n<polyline fill=\"none\" points=\"445,-23.5 517,-23.5 \" stroke=\"#000000\"/>\n<text fill=\"#000000\" font-family=\"Times,serif\" font-size=\"14.00\" text-anchor=\"middle\" x=\"481\" y=\"-8.3\">(None, 1)</text>\n</g>\n<!-- 139757014704336&#45;&gt;139757014619088 -->\n<g class=\"edge\" id=\"edge7\">\n<title>139757014704336-&gt;139757014619088</title>\n<path d=\"M375,-83.3799C375,-75.1745 375,-65.7679 375,-56.8786\" fill=\"none\" stroke=\"#000000\"/>\n<polygon fill=\"#000000\" points=\"378.5001,-56.784 375,-46.784 371.5001,-56.784 378.5001,-56.784\" stroke=\"#000000\"/>\n</g>\n</g>\n</svg>"
          },
          "metadata": {
            "tags": []
          },
          "execution_count": 35
        }
      ]
    },
    {
      "cell_type": "markdown",
      "metadata": {
        "id": "zbOcZD6igpxy"
      },
      "source": [
        "###**6.Training the Model**\n",
        "\n",
        "Training the model for 5 epochs:"
      ]
    },
    {
      "cell_type": "code",
      "metadata": {
        "colab": {
          "base_uri": "https://localhost:8080/"
        },
        "id": "RmQN4r52gmLR",
        "outputId": "291e1a0c-d35e-4bff-a8b4-abdd02ab7fba"
      },
      "source": [
        "import numpy as np\n",
        "\n",
        "NUM_EPOCHS = 5\n",
        "\n",
        "for epoch in range(1, NUM_EPOCHS+1):\n",
        "    epoch_loss = 0\n",
        "    for i, sent_examples in enumerate(skip_grams):\n",
        "        target_wds = np.array([pair[0] for pair in sent_examples[0]], dtype='int32')\n",
        "        context_wds = np.array([pair[1] for pair in sent_examples[0]], dtype='int32')\n",
        "        labels = np.array(sent_examples[1], dtype='int32')\n",
        "        X = [target_wds, context_wds]\n",
        "        Y = labels\n",
        "        if i % 5000 == 0: \n",
        "        \tprint('Processed %d sentences' %i)\n",
        "        epoch_loss += model.train_on_batch(X, Y)\n",
        "    print('Processed all %d sentences' %i)\n",
        "    print('Epoch:', epoch, 'Loss:', epoch_loss, '\\n')"
      ],
      "execution_count": null,
      "outputs": [
        {
          "output_type": "stream",
          "text": [
            "Processed 0 sentences\n",
            "Processed 5000 sentences\n",
            "Processed 10000 sentences\n",
            "Processed all 13650 sentences\n",
            "Epoch: 1 Loss: 2467.770658732392 \n",
            "\n",
            "Processed 0 sentences\n",
            "Processed 5000 sentences\n",
            "Processed 10000 sentences\n",
            "Processed all 13650 sentences\n",
            "Epoch: 2 Loss: 2145.1717865858227 \n",
            "\n",
            "Processed 0 sentences\n",
            "Processed 5000 sentences\n",
            "Processed 10000 sentences\n",
            "Processed all 13650 sentences\n",
            "Epoch: 3 Loss: 2084.808251509443 \n",
            "\n",
            "Processed 0 sentences\n",
            "Processed 5000 sentences\n",
            "Processed 10000 sentences\n",
            "Processed all 13650 sentences\n",
            "Epoch: 4 Loss: 2003.7991921408102 \n",
            "\n",
            "Processed 0 sentences\n",
            "Processed 5000 sentences\n",
            "Processed 10000 sentences\n",
            "Processed all 13650 sentences\n",
            "Epoch: 5 Loss: 1918.4543599979952 \n",
            "\n"
          ],
          "name": "stdout"
        }
      ]
    },
    {
      "cell_type": "markdown",
      "metadata": {
        "id": "Bwz_8kTZ6UVF"
      },
      "source": [
        "###**7. Getting the Word Embeddings**\n",
        "\n",
        "The word embeddings are the weights of the target word embedding layer.\n"
      ]
    },
    {
      "cell_type": "code",
      "metadata": {
        "colab": {
          "base_uri": "https://localhost:8080/"
        },
        "id": "kiQTO6VgcN90",
        "outputId": "e356d85f-a7f4-4d54-b74b-48848bbd9129"
      },
      "source": [
        "word_embeddings = model.get_layer('target_embed_layer').get_weights()[0] \n",
        "\n",
        "# should return (VOCAB_SIZE, EMBED_SIZE)\n",
        "print(word_embeddings.shape)"
      ],
      "execution_count": null,
      "outputs": [
        {
          "output_type": "stream",
          "text": [
            "(10180, 100)\n"
          ],
          "name": "stdout"
        }
      ]
    },
    {
      "cell_type": "markdown",
      "metadata": {
        "id": "33-QRJFv6v5t"
      },
      "source": [
        "Samples of few words and their embeddings "
      ]
    },
    {
      "cell_type": "code",
      "metadata": {
        "colab": {
          "base_uri": "https://localhost:8080/"
        },
        "id": "HffZwwLUcXb1",
        "outputId": "d4265975-2d4e-44f8-d8d3-5af268db5325"
      },
      "source": [
        "from pandas import DataFrame\n",
        "\n",
        "print(DataFrame(word_embeddings, index=idx2word.values()).tail(10))\n",
        "df = DataFrame(word_embeddings, index=idx2word.values())"
      ],
      "execution_count": null,
      "outputs": [
        {
          "output_type": "stream",
          "text": [
            "                     0         1         2   ...        97        98        99\n",
            "his           -0.022273  0.029204  0.077964  ...  0.005854  0.097077  0.060768\n",
            "watches       -0.008149 -0.035605  0.010716  ... -0.027675  0.050696  0.002349\n",
            "scrawl        -0.013291 -0.013314  0.008680  ... -0.010698  0.016651 -0.016123\n",
            "go            -0.060757 -0.003641 -0.035518  ... -0.001153  0.025051 -0.054524\n",
            "conditionally -0.033802 -0.010010  0.038769  ... -0.030075  0.012936 -0.031774\n",
            "named          0.000720  0.003766  0.035202  ...  0.000705  0.015846 -0.040110\n",
            "slightingly   -0.033576 -0.021367  0.001884  ...  0.005102  0.001253 -0.023415\n",
            "inevitable     0.002267  0.002155  0.027177  ... -0.013300  0.008322 -0.009320\n",
            "declared      -0.011051 -0.050434  0.010906  ...  0.004461  0.039894 -0.028637\n",
            "disdained      0.004400 -0.035706  0.039512  ... -0.036939  0.008824 -0.019910\n",
            "\n",
            "[10 rows x 100 columns]\n"
          ],
          "name": "stdout"
        }
      ]
    },
    {
      "cell_type": "markdown",
      "metadata": {
        "id": "-Ki8NtrS7ezr"
      },
      "source": [
        "###**8.  Measuring Similarity Between Word Pairs**\n",
        "\n"
      ]
    },
    {
      "cell_type": "code",
      "metadata": {
        "id": "dbb-uoe666oV",
        "colab": {
          "base_uri": "https://localhost:8080/"
        },
        "outputId": "2c7e5ecc-1796-4eeb-b198-9091e29df72a"
      },
      "source": [
        "from sklearn.metrics.pairwise import cosine_similarity\n",
        "\n",
        "similarity_matrix = cosine_similarity(word_embeddings)\n",
        "\n",
        "# should print(VOCAB_SIZE, VOCAB_SIZE)\n",
        "print(similarity_matrix.shape)"
      ],
      "execution_count": null,
      "outputs": [
        {
          "output_type": "stream",
          "text": [
            "(10180, 10180)\n"
          ],
          "name": "stdout"
        }
      ]
    },
    {
      "cell_type": "markdown",
      "metadata": {
        "id": "k0fyfgvB90G5"
      },
      "source": [
        "###**9. Exploring and Visualizing  Word Embeddings using t-SNE**\n",
        "\n",
        "**Sanity check: Getting the 5 most similar words to the search items in the list below**\n",
        "\n",
        "search_terms = ['family', 'love', 'equality', 'wisdom', 'justice',  'humour', 'rejection']\n",
        "\n",
        "\n"
      ]
    },
    {
      "cell_type": "code",
      "metadata": {
        "colab": {
          "base_uri": "https://localhost:8080/"
        },
        "id": "2-wiGVkKah9f",
        "outputId": "fc5a13aa-23ae-4f78-c47f-68b4142e7299"
      },
      "source": [
        "search_terms = ['family', 'love', 'equality', 'wisdom', 'justice', 'humour', 'rejection']\n",
        "\n",
        "# write code to get the 5 words most similar to the words in search_terms\n",
        "#we are first going to extract the word from the search_terms based on Index \n",
        "# then extract all the similar words which are to be similar to all the \"given search index\" and sort the similarity vector accoording to its values\n",
        "\n",
        "for idx in range(len(search_terms)):\n",
        "  idx = idx\n",
        "  similar_words=[]\n",
        "\n",
        "  for i in list(np.argsort(similarity_matrix[word2idx[search_terms[idx]]])[-6:-1]):\n",
        "    similar_words.append(idx2word[i])   \n",
        "  print('5 similar words for {}'.format(search_terms[idx]),similar_words)\n",
        "\n",
        "idx = 2\n",
        "similar_words  = [idx2word[i] \n",
        "                  for i in list(np.argsort(similarity_matrix[word2idx[search_terms[idx]]])[-6:-1])]\n",
        "print('5 similar words for {}'.format(search_terms[idx]),similar_words)\n",
        "\n",
        "#We then use the 5 index's in the idx2word  to extract the 5 similar words"
      ],
      "execution_count": null,
      "outputs": [
        {
          "output_type": "stream",
          "text": [
            "5 similar words for family ['russell', 'way', 'children', 'musgrove', 'elliot']\n",
            "5 similar words for love ['deal', 'elliot', 'musgrove', 'harriet', 'account']\n",
            "5 similar words for equality ['reside', 'forbear', 'gifted', 'depressed', 'ungrateful']\n",
            "5 similar words for wisdom ['bluntness', 'clownish', 'warfare', 'sloop', 'hated']\n",
            "5 similar words for justice ['think', 'circumstances', 'girl', 'world', 'wrong']\n",
            "5 similar words for humour ['lived', 'worse', 'tenderness', 'marry', 'recollect']\n",
            "5 similar words for rejection ['exactness', 'hamilton', 'prosperously', 'ordained', 'proves']\n",
            "5 similar words for equality ['reside', 'forbear', 'gifted', 'depressed', 'ungrateful']\n"
          ],
          "name": "stdout"
        }
      ]
    },
    {
      "cell_type": "code",
      "metadata": {
        "colab": {
          "base_uri": "https://localhost:8080/"
        },
        "id": "hWbSfqYschRs",
        "outputId": "fe0a5848-c746-4475-fb70-de0ac378b826"
      },
      "source": [
        "search_terms = ['think', 'thought', 'mr', 'friend', 'love', 'disdain']\n",
        "\n",
        "#we are first going to extract the word from the search_terms based on Index \n",
        "# then extract all the similar words which are to be similar to all the \"given search index\" and then sort the similarity vector accordingly to its values\n",
        "for idx in range(len(search_terms)):\n",
        "  idx = idx\n",
        "  similar_words=[]\n",
        "  for i in list(np.argsort(similarity_matrix[word2idx[search_terms[idx]]])[-6:-1]):\n",
        "    similar_words.append(idx2word[i])   \n",
        "  print('5 similar words for {}'.format(search_terms[idx]),similar_words)\n",
        "\n",
        "idx = 2\n",
        "similar_words  = [idx2word[i] \n",
        "                  for i in list(np.argsort(similarity_matrix[word2idx[search_terms[idx]]])[-6:-1])]\n",
        "print('5 similar words for {}'.format(search_terms[idx]),similar_words)\n",
        "\n",
        "#We  use the 5 index's in the idx2word  to extract the 5 similar words"
      ],
      "execution_count": null,
      "outputs": [
        {
          "output_type": "stream",
          "text": [
            "5 similar words for think ['woman', 'world', 'jane', 'well', 'know']\n",
            "5 similar words for thought ['russell', 'coming', 'mary', 'heard', 'anne']\n",
            "5 similar words for mr ['elliot', 'robert', 'jane', 'elton', 'knightley']\n",
            "5 similar words for friend ['heard', 'anne', 'harriet', 'russell', 'elliot']\n",
            "5 similar words for love ['deal', 'elliot', 'musgrove', 'harriet', 'account']\n",
            "5 similar words for disdain ['largest', 'obviate', 'war', 'atoned', 'passes']\n",
            "5 similar words for mr ['elliot', 'robert', 'jane', 'elton', 'knightley']\n"
          ],
          "name": "stdout"
        }
      ]
    },
    {
      "cell_type": "markdown",
      "metadata": {
        "id": "5I_X9W-vGXiZ"
      },
      "source": [
        "**B. Plotting the words in the dictionary above using t-SNE** \n",
        "\n",
        "\n",
        "\n",
        "\n",
        "\n",
        "\n",
        "\n",
        "\n",
        "\n",
        "\n",
        "\n",
        "\n",
        "\n"
      ]
    },
    {
      "cell_type": "code",
      "metadata": {
        "id": "FMnyCjS4cnb8",
        "colab": {
          "base_uri": "https://localhost:8080/",
          "height": 483
        },
        "outputId": "8b6cfe07-64a6-42d0-818b-642514bcc0bd"
      },
      "source": [
        "from sklearn.manifold import TSNE\n",
        "import matplotlib.pyplot as plt\n",
        "\n",
        "tsne = TSNE(perplexity=3, n_components=2, init='pca', n_iter=5000, method='exact')\n",
        "np.set_printoptions(suppress=True)\n",
        "plot_only = 50 \n",
        "\n",
        "T = tsne.fit_transform(word_embeddings[:plot_only, :])\n",
        "labels = [idx2word[i+1] for i in range(plot_only)]\n",
        "plt.figure(figsize=(14, 8))\n",
        "plt.scatter(T[:, 0], T[:, 1])\n",
        "for label, x, y in zip(labels, T[:, 0], T[:, 1]):\n",
        "    plt.annotate(label, xy=(x+1, y+1), xytext=(0, 0), textcoords='offset points', ha='right', va='bottom')                      \t                        \n"
      ],
      "execution_count": null,
      "outputs": [
        {
          "output_type": "display_data",
          "data": {
            "image/png": "[encoded data removed]",
            "text/plain": [
              "<Figure size 1008x576 with 1 Axes>"
            ]
          },
          "metadata": {
            "tags": [],
            "needs_background": "light"
          }
        }
      ]
    },
    {
      "cell_type": "code",
      "metadata": {
        "id": "1KF-hISOGNTE"
      },
      "source": [
        ""
      ],
      "execution_count": null,
      "outputs": []
    }
  ]
}